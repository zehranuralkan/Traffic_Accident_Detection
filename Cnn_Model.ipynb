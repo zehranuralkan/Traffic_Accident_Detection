{
 "cells": [
  {
   "cell_type": "code",
   "execution_count": 1,
   "id": "07f158f3-5b07-4fef-b8a5-55a857fabfec",
   "metadata": {},
   "outputs": [],
   "source": [
    "import numpy as np\n",
    "import pandas as pd \n",
    "import matplotlib.pyplot as plt\n",
    "import tensorflow as tf\n",
    "from tensorflow.keras import layers\n",
    "from time import perf_counter \n",
    "import os"
   ]
  },
  {
   "cell_type": "code",
   "execution_count": 2,
   "id": "311f2e53-2431-40f4-9da5-8496ff412cc5",
   "metadata": {},
   "outputs": [],
   "source": [
    "batch_size = 200\n",
    "img_height = 250\n",
    "img_width = 250"
   ]
  },
  {
   "cell_type": "code",
   "execution_count": 3,
   "id": "79578a0c-bae2-4c59-85e9-22e70fa7579b",
   "metadata": {},
   "outputs": [
    {
     "name": "stdout",
     "output_type": "stream",
     "text": [
      "Found 153 files belonging to 2 classes.\n"
     ]
    }
   ],
   "source": [
    "training_ds = tf.keras.preprocessing.image_dataset_from_directory(\n",
    "    '/home/zehra/Desktop/Deneme/Dataset/data/train',\n",
    "    seed=42,\n",
    "    image_size= (img_height, img_width),\n",
    "    batch_size=batch_size\n",
    "\n",
    ")"
   ]
  },
  {
   "cell_type": "code",
   "execution_count": 4,
   "id": "9ff19b31-48d3-405c-ad18-8c2355edc380",
   "metadata": {},
   "outputs": [
    {
     "name": "stdout",
     "output_type": "stream",
     "text": [
      "Found 108 files belonging to 2 classes.\n"
     ]
    }
   ],
   "source": [
    "validation_ds =  tf.keras.preprocessing.image_dataset_from_directory(\n",
    "    '/home/zehra/Desktop/Deneme/Dataset/data/val',\n",
    "    seed=42,\n",
    "    image_size= (img_height, img_width),\n",
    "    batch_size=batch_size)\n",
    "\n"
   ]
  },
  {
   "cell_type": "code",
   "execution_count": 5,
   "id": "10515852-8305-4682-9b12-cee242959d3f",
   "metadata": {},
   "outputs": [
    {
     "name": "stdout",
     "output_type": "stream",
     "text": [
      "Found 78 files belonging to 2 classes.\n"
     ]
    }
   ],
   "source": [
    "testing_ds = tf.keras.preprocessing.image_dataset_from_directory(\n",
    "    '/home/zehra/Desktop/Deneme/Dataset/data/test',\n",
    "    seed=42,\n",
    "    image_size= (img_height, img_width),\n",
    "    batch_size=batch_size)\n"
   ]
  },
  {
   "cell_type": "code",
   "execution_count": 6,
   "id": "5e5e325b-5b5f-48f4-b25c-68ab610f6f5d",
   "metadata": {},
   "outputs": [],
   "source": [
    "class_names = training_ds.class_names"
   ]
  },
  {
   "cell_type": "code",
   "execution_count": 7,
   "id": "095645ea-57cb-4dd5-9a91-776635ce7451",
   "metadata": {},
   "outputs": [],
   "source": [
    "AUTOTUNE = tf.data.experimental.AUTOTUNE\n",
    "training_ds = training_ds.cache().prefetch(buffer_size=AUTOTUNE)\n",
    "testing_ds = testing_ds.cache().prefetch(buffer_size=AUTOTUNE)\n",
    "MyCnn = tf.keras.models.Sequential([\n",
    "layers.BatchNormalization(),\n",
    "layers.Conv2D(32, 3, activation='relu'),\n",
    "layers.MaxPooling2D(),\n",
    "layers.Conv2D(64, 3, activation='relu'),\n",
    "layers.MaxPooling2D(),\n",
    "layers.Conv2D(128, 3, activation='relu'),\n",
    "layers.MaxPooling2D(),\n",
    "layers.Flatten(),\n",
    "layers.Dense(256, activation='relu'),\n",
    "layers.Dense(len(class_names), activation= 'softmax')\n",
    "])\n"
   ]
  },
  {
   "cell_type": "code",
   "execution_count": 8,
   "id": "858bc8bb-1c4c-44be-a1e9-dc13df06b53f",
   "metadata": {},
   "outputs": [
    {
     "name": "stdout",
     "output_type": "stream",
     "text": [
      "Epoch 1/100\n",
      "1/1 [==============================] - 8s 8s/step - loss: 0.7299 - accuracy: 0.5033 - val_loss: 563.9374 - val_accuracy: 0.5648\n",
      "Epoch 2/100\n",
      "1/1 [==============================] - 7s 7s/step - loss: 33.6132 - accuracy: 0.4967 - val_loss: 33.1723 - val_accuracy: 0.4352\n",
      "Epoch 3/100\n",
      "1/1 [==============================] - 7s 7s/step - loss: 0.9522 - accuracy: 0.5229 - val_loss: 35.0667 - val_accuracy: 0.4352\n",
      "Epoch 4/100\n",
      "1/1 [==============================] - 7s 7s/step - loss: 2.1905 - accuracy: 0.5033 - val_loss: 2.1683 - val_accuracy: 0.4815\n",
      "Epoch 5/100\n",
      "1/1 [==============================] - 7s 7s/step - loss: 0.3904 - accuracy: 0.8497 - val_loss: 10.1184 - val_accuracy: 0.5648\n",
      "Epoch 6/100\n",
      "1/1 [==============================] - 7s 7s/step - loss: 1.3490 - accuracy: 0.5359 - val_loss: 4.1679 - val_accuracy: 0.5648\n",
      "Epoch 7/100\n",
      "1/1 [==============================] - 7s 7s/step - loss: 0.6583 - accuracy: 0.6928 - val_loss: 0.4651 - val_accuracy: 0.7778\n",
      "Epoch 8/100\n",
      "1/1 [==============================] - 7s 7s/step - loss: 0.3747 - accuracy: 0.8758 - val_loss: 2.9246 - val_accuracy: 0.4352\n",
      "Epoch 9/100\n",
      "1/1 [==============================] - 7s 7s/step - loss: 0.4673 - accuracy: 0.7255 - val_loss: 3.5324 - val_accuracy: 0.4352\n",
      "Epoch 10/100\n",
      "1/1 [==============================] - 7s 7s/step - loss: 0.4951 - accuracy: 0.7059 - val_loss: 2.8607 - val_accuracy: 0.4352\n",
      "Epoch 11/100\n",
      "1/1 [==============================] - 8s 8s/step - loss: 0.4573 - accuracy: 0.7843 - val_loss: 1.7102 - val_accuracy: 0.4444\n",
      "Epoch 12/100\n",
      "1/1 [==============================] - 7s 7s/step - loss: 0.4056 - accuracy: 0.8627 - val_loss: 0.4489 - val_accuracy: 0.7870\n",
      "Epoch 13/100\n",
      "1/1 [==============================] - 7s 7s/step - loss: 0.3985 - accuracy: 0.8562 - val_loss: 0.4807 - val_accuracy: 0.7870\n",
      "Epoch 14/100\n",
      "1/1 [==============================] - 7s 7s/step - loss: 0.3952 - accuracy: 0.8562 - val_loss: 0.6285 - val_accuracy: 0.6204\n",
      "Epoch 15/100\n",
      "1/1 [==============================] - 7s 7s/step - loss: 0.3487 - accuracy: 0.8627 - val_loss: 1.4266 - val_accuracy: 0.4722\n",
      "Epoch 16/100\n",
      "1/1 [==============================] - 7s 7s/step - loss: 0.3296 - accuracy: 0.8824 - val_loss: 1.8903 - val_accuracy: 0.4444\n",
      "Epoch 17/100\n",
      "1/1 [==============================] - 7s 7s/step - loss: 0.3193 - accuracy: 0.8627 - val_loss: 1.3945 - val_accuracy: 0.4722\n",
      "Epoch 18/100\n",
      "1/1 [==============================] - 7s 7s/step - loss: 0.2896 - accuracy: 0.8889 - val_loss: 0.5847 - val_accuracy: 0.6944\n",
      "Epoch 19/100\n",
      "1/1 [==============================] - 7s 7s/step - loss: 0.2762 - accuracy: 0.8824 - val_loss: 0.5927 - val_accuracy: 0.6944\n",
      "Epoch 20/100\n",
      "1/1 [==============================] - 7s 7s/step - loss: 0.2600 - accuracy: 0.8889 - val_loss: 1.5248 - val_accuracy: 0.5185\n",
      "Epoch 21/100\n",
      "1/1 [==============================] - 7s 7s/step - loss: 0.2307 - accuracy: 0.9020 - val_loss: 2.3136 - val_accuracy: 0.4630\n",
      "Epoch 22/100\n",
      "1/1 [==============================] - 7s 7s/step - loss: 0.2234 - accuracy: 0.9477 - val_loss: 1.6067 - val_accuracy: 0.5556\n",
      "Epoch 23/100\n",
      "1/1 [==============================] - 7s 7s/step - loss: 0.1934 - accuracy: 0.9150 - val_loss: 1.0344 - val_accuracy: 0.6389\n",
      "Epoch 24/100\n",
      "1/1 [==============================] - 7s 7s/step - loss: 0.1902 - accuracy: 0.9085 - val_loss: 1.9160 - val_accuracy: 0.5185\n",
      "Epoch 25/100\n",
      "1/1 [==============================] - 7s 7s/step - loss: 0.1622 - accuracy: 0.9673 - val_loss: 2.6133 - val_accuracy: 0.4907\n",
      "Epoch 26/100\n",
      "1/1 [==============================] - 7s 7s/step - loss: 0.1585 - accuracy: 0.9673 - val_loss: 1.6911 - val_accuracy: 0.5833\n",
      "Epoch 27/100\n",
      "1/1 [==============================] - 7s 7s/step - loss: 0.1354 - accuracy: 0.9673 - val_loss: 1.5137 - val_accuracy: 0.6204\n",
      "Epoch 28/100\n",
      "1/1 [==============================] - 7s 7s/step - loss: 0.1285 - accuracy: 0.9739 - val_loss: 2.7581 - val_accuracy: 0.5093\n",
      "Epoch 29/100\n",
      "1/1 [==============================] - 7s 7s/step - loss: 0.1130 - accuracy: 0.9804 - val_loss: 2.8941 - val_accuracy: 0.5093\n",
      "Epoch 30/100\n",
      "1/1 [==============================] - 7s 7s/step - loss: 0.1016 - accuracy: 0.9804 - val_loss: 1.9000 - val_accuracy: 0.5926\n",
      "Epoch 31/100\n",
      "1/1 [==============================] - 7s 7s/step - loss: 0.0938 - accuracy: 0.9804 - val_loss: 2.1721 - val_accuracy: 0.5741\n",
      "Epoch 32/100\n",
      "1/1 [==============================] - 7s 7s/step - loss: 0.0814 - accuracy: 0.9869 - val_loss: 3.2729 - val_accuracy: 0.5185\n",
      "Epoch 33/100\n",
      "1/1 [==============================] - 7s 7s/step - loss: 0.0788 - accuracy: 0.9804 - val_loss: 2.3783 - val_accuracy: 0.5741\n",
      "Epoch 34/100\n",
      "1/1 [==============================] - 7s 7s/step - loss: 0.0634 - accuracy: 0.9935 - val_loss: 1.5116 - val_accuracy: 0.6389\n",
      "Epoch 35/100\n",
      "1/1 [==============================] - 7s 7s/step - loss: 0.0630 - accuracy: 0.9869 - val_loss: 2.4186 - val_accuracy: 0.5926\n",
      "Epoch 36/100\n",
      "1/1 [==============================] - 8s 8s/step - loss: 0.0508 - accuracy: 0.9935 - val_loss: 2.7167 - val_accuracy: 0.5741\n",
      "Epoch 37/100\n",
      "1/1 [==============================] - 7s 7s/step - loss: 0.0478 - accuracy: 0.9935 - val_loss: 1.6102 - val_accuracy: 0.6389\n",
      "Epoch 38/100\n",
      "1/1 [==============================] - 7s 7s/step - loss: 0.0424 - accuracy: 0.9935 - val_loss: 1.7529 - val_accuracy: 0.6389\n",
      "Epoch 39/100\n",
      "1/1 [==============================] - 7s 7s/step - loss: 0.0361 - accuracy: 0.9935 - val_loss: 2.6297 - val_accuracy: 0.5926\n",
      "Epoch 40/100\n",
      "1/1 [==============================] - 7s 7s/step - loss: 0.0349 - accuracy: 0.9935 - val_loss: 1.8345 - val_accuracy: 0.6389\n",
      "Epoch 41/100\n",
      "1/1 [==============================] - 7s 7s/step - loss: 0.0277 - accuracy: 0.9935 - val_loss: 1.1958 - val_accuracy: 0.7222\n",
      "Epoch 42/100\n",
      "1/1 [==============================] - 7s 7s/step - loss: 0.0276 - accuracy: 0.9935 - val_loss: 1.6911 - val_accuracy: 0.6759\n",
      "Epoch 43/100\n",
      "1/1 [==============================] - 7s 7s/step - loss: 0.0227 - accuracy: 0.9935 - val_loss: 1.9213 - val_accuracy: 0.6481\n",
      "Epoch 44/100\n",
      "1/1 [==============================] - 7s 7s/step - loss: 0.0219 - accuracy: 0.9935 - val_loss: 1.2466 - val_accuracy: 0.7315\n",
      "Epoch 45/100\n",
      "1/1 [==============================] - 7s 7s/step - loss: 0.0192 - accuracy: 0.9935 - val_loss: 1.2610 - val_accuracy: 0.7315\n",
      "Epoch 46/100\n",
      "1/1 [==============================] - 7s 7s/step - loss: 0.0175 - accuracy: 0.9935 - val_loss: 1.8734 - val_accuracy: 0.6667\n",
      "Epoch 47/100\n",
      "1/1 [==============================] - 7s 7s/step - loss: 0.0159 - accuracy: 1.0000 - val_loss: 1.7158 - val_accuracy: 0.7037\n",
      "Epoch 48/100\n",
      "1/1 [==============================] - 7s 7s/step - loss: 0.0138 - accuracy: 1.0000 - val_loss: 1.1982 - val_accuracy: 0.7500\n",
      "Epoch 49/100\n",
      "1/1 [==============================] - 7s 7s/step - loss: 0.0132 - accuracy: 0.9935 - val_loss: 1.2443 - val_accuracy: 0.7500\n",
      "Epoch 50/100\n",
      "1/1 [==============================] - 7s 7s/step - loss: 0.0114 - accuracy: 0.9935 - val_loss: 1.5927 - val_accuracy: 0.7222\n",
      "Epoch 51/100\n",
      "1/1 [==============================] - 7s 7s/step - loss: 0.0109 - accuracy: 1.0000 - val_loss: 1.3495 - val_accuracy: 0.7500\n",
      "Epoch 52/100\n",
      "1/1 [==============================] - 7s 7s/step - loss: 0.0091 - accuracy: 1.0000 - val_loss: 1.0524 - val_accuracy: 0.7870\n",
      "Epoch 53/100\n",
      "1/1 [==============================] - 7s 7s/step - loss: 0.0088 - accuracy: 0.9935 - val_loss: 1.1711 - val_accuracy: 0.7870\n",
      "Epoch 54/100\n",
      "1/1 [==============================] - 7s 7s/step - loss: 0.0075 - accuracy: 1.0000 - val_loss: 1.4479 - val_accuracy: 0.7593\n",
      "Epoch 55/100\n",
      "1/1 [==============================] - 7s 7s/step - loss: 0.0072 - accuracy: 1.0000 - val_loss: 1.2909 - val_accuracy: 0.7778\n",
      "Epoch 56/100\n",
      "1/1 [==============================] - 7s 7s/step - loss: 0.0061 - accuracy: 1.0000 - val_loss: 1.0703 - val_accuracy: 0.7870\n",
      "Epoch 57/100\n",
      "1/1 [==============================] - 7s 7s/step - loss: 0.0058 - accuracy: 1.0000 - val_loss: 1.1414 - val_accuracy: 0.7870\n",
      "Epoch 58/100\n",
      "1/1 [==============================] - 7s 7s/step - loss: 0.0050 - accuracy: 1.0000 - val_loss: 1.3520 - val_accuracy: 0.7778\n",
      "Epoch 59/100\n",
      "1/1 [==============================] - 7s 7s/step - loss: 0.0047 - accuracy: 1.0000 - val_loss: 1.3008 - val_accuracy: 0.7778\n",
      "Epoch 60/100\n",
      "1/1 [==============================] - 7s 7s/step - loss: 0.0042 - accuracy: 1.0000 - val_loss: 1.0723 - val_accuracy: 0.7870\n",
      "Epoch 61/100\n",
      "1/1 [==============================] - 7s 7s/step - loss: 0.0037 - accuracy: 1.0000 - val_loss: 0.9944 - val_accuracy: 0.7870\n",
      "Epoch 62/100\n",
      "1/1 [==============================] - 7s 7s/step - loss: 0.0035 - accuracy: 1.0000 - val_loss: 1.1013 - val_accuracy: 0.7870\n",
      "Epoch 63/100\n",
      "1/1 [==============================] - 7s 7s/step - loss: 0.0030 - accuracy: 1.0000 - val_loss: 1.1850 - val_accuracy: 0.7870\n",
      "Epoch 64/100\n",
      "1/1 [==============================] - 7s 7s/step - loss: 0.0029 - accuracy: 1.0000 - val_loss: 1.0756 - val_accuracy: 0.7870\n",
      "Epoch 65/100\n",
      "1/1 [==============================] - 7s 7s/step - loss: 0.0025 - accuracy: 1.0000 - val_loss: 0.9324 - val_accuracy: 0.8056\n",
      "Epoch 66/100\n",
      "1/1 [==============================] - 7s 7s/step - loss: 0.0023 - accuracy: 1.0000 - val_loss: 0.9156 - val_accuracy: 0.8056\n",
      "Epoch 67/100\n",
      "1/1 [==============================] - 7s 7s/step - loss: 0.0021 - accuracy: 1.0000 - val_loss: 1.0024 - val_accuracy: 0.7963\n",
      "Epoch 68/100\n",
      "1/1 [==============================] - 7s 7s/step - loss: 0.0019 - accuracy: 1.0000 - val_loss: 1.0575 - val_accuracy: 0.7963\n",
      "Epoch 69/100\n",
      "1/1 [==============================] - 7s 7s/step - loss: 0.0018 - accuracy: 1.0000 - val_loss: 0.9941 - val_accuracy: 0.8056\n",
      "Epoch 70/100\n",
      "1/1 [==============================] - 7s 7s/step - loss: 0.0016 - accuracy: 1.0000 - val_loss: 0.8886 - val_accuracy: 0.8056\n",
      "Epoch 71/100\n",
      "1/1 [==============================] - 7s 7s/step - loss: 0.0015 - accuracy: 1.0000 - val_loss: 0.8434 - val_accuracy: 0.8148\n",
      "Epoch 72/100\n",
      "1/1 [==============================] - 7s 7s/step - loss: 0.0014 - accuracy: 1.0000 - val_loss: 0.8755 - val_accuracy: 0.8056\n",
      "Epoch 73/100\n",
      "1/1 [==============================] - 7s 7s/step - loss: 0.0013 - accuracy: 1.0000 - val_loss: 0.9300 - val_accuracy: 0.8056\n",
      "Epoch 74/100\n",
      "1/1 [==============================] - 7s 7s/step - loss: 0.0012 - accuracy: 1.0000 - val_loss: 0.9338 - val_accuracy: 0.8056\n",
      "Epoch 75/100\n",
      "1/1 [==============================] - 7s 7s/step - loss: 0.0012 - accuracy: 1.0000 - val_loss: 0.8732 - val_accuracy: 0.8056\n",
      "Epoch 76/100\n",
      "1/1 [==============================] - 7s 7s/step - loss: 0.0011 - accuracy: 1.0000 - val_loss: 0.8016 - val_accuracy: 0.8241\n",
      "Epoch 77/100\n",
      "1/1 [==============================] - 7s 7s/step - loss: 9.9995e-04 - accuracy: 1.0000 - val_loss: 0.7672 - val_accuracy: 0.8241\n",
      "Epoch 78/100\n",
      "1/1 [==============================] - 7s 7s/step - loss: 9.5527e-04 - accuracy: 1.0000 - val_loss: 0.7768 - val_accuracy: 0.8241\n",
      "Epoch 79/100\n",
      "1/1 [==============================] - 7s 7s/step - loss: 8.8588e-04 - accuracy: 1.0000 - val_loss: 0.8051 - val_accuracy: 0.8241\n",
      "Epoch 80/100\n",
      "1/1 [==============================] - 7s 7s/step - loss: 8.3507e-04 - accuracy: 1.0000 - val_loss: 0.8156 - val_accuracy: 0.8241\n",
      "Epoch 81/100\n",
      "1/1 [==============================] - 7s 7s/step - loss: 8.0336e-04 - accuracy: 1.0000 - val_loss: 0.7899 - val_accuracy: 0.8333\n",
      "Epoch 82/100\n",
      "1/1 [==============================] - 7s 7s/step - loss: 7.5780e-04 - accuracy: 1.0000 - val_loss: 0.7437 - val_accuracy: 0.8333\n",
      "Epoch 83/100\n",
      "1/1 [==============================] - 7s 7s/step - loss: 7.1480e-04 - accuracy: 1.0000 - val_loss: 0.7056 - val_accuracy: 0.8333\n",
      "Epoch 84/100\n",
      "1/1 [==============================] - 7s 7s/step - loss: 6.8925e-04 - accuracy: 1.0000 - val_loss: 0.6907 - val_accuracy: 0.8611\n",
      "Epoch 85/100\n",
      "1/1 [==============================] - 7s 7s/step - loss: 6.6168e-04 - accuracy: 1.0000 - val_loss: 0.6963 - val_accuracy: 0.8519\n",
      "Epoch 86/100\n",
      "1/1 [==============================] - 7s 7s/step - loss: 6.2723e-04 - accuracy: 1.0000 - val_loss: 0.7089 - val_accuracy: 0.8333\n",
      "Epoch 87/100\n",
      "1/1 [==============================] - 7s 7s/step - loss: 6.0200e-04 - accuracy: 1.0000 - val_loss: 0.7115 - val_accuracy: 0.8333\n",
      "Epoch 88/100\n",
      "1/1 [==============================] - 7s 7s/step - loss: 5.8374e-04 - accuracy: 1.0000 - val_loss: 0.6960 - val_accuracy: 0.8611\n",
      "Epoch 89/100\n",
      "1/1 [==============================] - 7s 7s/step - loss: 5.6059e-04 - accuracy: 1.0000 - val_loss: 0.6691 - val_accuracy: 0.9074\n",
      "Epoch 90/100\n",
      "1/1 [==============================] - 7s 7s/step - loss: 5.3679e-04 - accuracy: 1.0000 - val_loss: 0.6437 - val_accuracy: 0.9259\n",
      "Epoch 91/100\n",
      "1/1 [==============================] - 7s 7s/step - loss: 5.1999e-04 - accuracy: 1.0000 - val_loss: 0.6287 - val_accuracy: 0.9352\n",
      "Epoch 92/100\n",
      "1/1 [==============================] - 7s 7s/step - loss: 5.0513e-04 - accuracy: 1.0000 - val_loss: 0.6251 - val_accuracy: 0.9352\n",
      "Epoch 93/100\n",
      "1/1 [==============================] - 7s 7s/step - loss: 4.8703e-04 - accuracy: 1.0000 - val_loss: 0.6282 - val_accuracy: 0.9352\n",
      "Epoch 94/100\n",
      "1/1 [==============================] - 7s 7s/step - loss: 4.7015e-04 - accuracy: 1.0000 - val_loss: 0.6306 - val_accuracy: 0.9259\n",
      "Epoch 95/100\n",
      "1/1 [==============================] - 7s 7s/step - loss: 4.5765e-04 - accuracy: 1.0000 - val_loss: 0.6262 - val_accuracy: 0.9352\n",
      "Epoch 96/100\n",
      "1/1 [==============================] - 7s 7s/step - loss: 4.4570e-04 - accuracy: 1.0000 - val_loss: 0.6140 - val_accuracy: 0.9352\n",
      "Epoch 97/100\n",
      "1/1 [==============================] - 7s 7s/step - loss: 4.3193e-04 - accuracy: 1.0000 - val_loss: 0.5984 - val_accuracy: 0.9352\n",
      "Epoch 98/100\n",
      "1/1 [==============================] - 7s 7s/step - loss: 4.1919e-04 - accuracy: 1.0000 - val_loss: 0.5851 - val_accuracy: 0.9352\n",
      "Epoch 99/100\n",
      "1/1 [==============================] - 7s 7s/step - loss: 4.0923e-04 - accuracy: 1.0000 - val_loss: 0.5770 - val_accuracy: 0.9352\n",
      "Epoch 100/100\n",
      "1/1 [==============================] - 7s 7s/step - loss: 3.9967e-04 - accuracy: 1.0000 - val_loss: 0.5743 - val_accuracy: 0.9352\n"
     ]
    },
    {
     "data": {
      "text/plain": [
       "<matplotlib.legend.Legend at 0x7fe298128f10>"
      ]
     },
     "execution_count": 8,
     "metadata": {},
     "output_type": "execute_result"
    },
    {
     "data": {
      "image/png": "[encoded data removed]",
      "text/plain": [
       "<Figure size 432x288 with 1 Axes>"
      ]
     },
     "metadata": {
      "needs_background": "light"
     },
     "output_type": "display_data"
    }
   ],
   "source": [
    "MyCnn.compile(optimizer='adam',loss='sparse_categorical_crossentropy', metrics=['accuracy'])\n",
    "# lets train our CNN\n",
    "retVal = MyCnn.fit(training_ds, validation_data= validation_ds, epochs =100)\n",
    "\n",
    "\n",
    "plt.plot(retVal.history['loss'], label = 'training loss')\n",
    "plt.plot(retVal.history['accuracy'], label = 'training accuracy')\n",
    "plt.grid(True)\n",
    "plt.legend()\n",
    "\n",
    "## stats on validation data\n",
    "plt.plot(retVal.history['val_loss'], label = 'validation loss')\n",
    "plt.plot(retVal.history['val_accuracy'], label = 'validation accuracy')\n",
    "plt.grid(True)\n",
    "plt.legend()"
   ]
  },
  {
   "cell_type": "code",
   "execution_count": 9,
   "id": "206b9259-71a9-4e49-bc10-d19f8197f6b0",
   "metadata": {},
   "outputs": [
    {
     "data": {
      "text/plain": [
       "<Figure size 2160x2160 with 0 Axes>"
      ]
     },
     "metadata": {},
     "output_type": "display_data"
    }
   ],
   "source": [
    "AccuracyVector = []\n",
    "plt.figure(figsize=(30, 30))\n",
    "for images, labels in testing_ds.take(1):\n",
    "    predictions = MyCnn.predict(images)\n",
    "    predlabel = []\n",
    "    prdlbl = []\n",
    "    \n",
    "   "
   ]
  },
  {
   "cell_type": "code",
   "execution_count": 10,
   "id": "954fcfed-e714-4c4b-9c3b-69cac62ca0a1",
   "metadata": {},
   "outputs": [
    {
     "name": "stdout",
     "output_type": "stream",
     "text": [
      "Non Accident\n",
      "Accident\n",
      "Accident\n",
      "Accident\n",
      "Accident\n",
      "Non Accident\n",
      "Accident\n",
      "Accident\n",
      "Accident\n",
      "Non Accident\n",
      "Non Accident\n",
      "Non Accident\n",
      "Non Accident\n",
      "Non Accident\n",
      "Accident\n",
      "Accident\n",
      "Accident\n",
      "Non Accident\n",
      "Accident\n",
      "Accident\n",
      "Accident\n",
      "Non Accident\n",
      "Accident\n",
      "Non Accident\n",
      "Non Accident\n",
      "Non Accident\n",
      "Accident\n",
      "Accident\n",
      "Accident\n",
      "Non Accident\n",
      "Accident\n",
      "Non Accident\n",
      "Non Accident\n",
      "Accident\n",
      "Non Accident\n",
      "Accident\n",
      "Accident\n",
      "Non Accident\n",
      "Accident\n",
      "Non Accident\n",
      "Accident\n",
      "Non Accident\n",
      "Non Accident\n",
      "Accident\n",
      "Non Accident\n",
      "Accident\n",
      "Non Accident\n",
      "Accident\n",
      "Accident\n",
      "Accident\n",
      "Non Accident\n",
      "Non Accident\n",
      "Accident\n",
      "Non Accident\n",
      "Accident\n",
      "Non Accident\n",
      "Non Accident\n",
      "Accident\n",
      "Non Accident\n",
      "Accident\n",
      "Accident\n",
      "Non Accident\n",
      "Non Accident\n",
      "Non Accident\n",
      "Non Accident\n",
      "Accident\n",
      "Non Accident\n",
      "Accident\n",
      "Non Accident\n",
      "Non Accident\n",
      "Non Accident\n",
      "Non Accident\n",
      "Non Accident\n",
      "Accident\n",
      "Accident\n",
      "Accident\n",
      "Non Accident\n",
      "Non Accident\n"
     ]
    }
   ],
   "source": [
    " for mem in predictions:\n",
    "        deneme=predlabel.append(class_names[np.argmax(mem)])\n",
    "        print(class_names[np.argmax(mem)])\n",
    "        deneme=prdlbl.append(np.argmax(mem))\n",
    "      \n",
    "    \n"
   ]
  },
  {
   "cell_type": "code",
   "execution_count": 11,
   "id": "fe8136f2-cc2b-40cc-928b-588cd873dbf1",
   "metadata": {},
   "outputs": [
    {
     "name": "stdout",
     "output_type": "stream",
     "text": [
      "AccuracyVector:  tf.Tensor(\n",
      "[ True  True  True  True  True  True  True  True  True  True  True  True\n",
      "  True  True  True  True  True  True  True  True  True  True  True  True\n",
      "  True  True False False  True  True  True  True  True  True  True  True\n",
      "  True  True False  True  True  True False  True  True  True  True  True\n",
      "  True  True  True  True  True  True  True  True  True  True  True  True\n",
      "  True  True  True  True  True  True  True False  True  True  True  True\n",
      "  True  True  True False  True  True], shape=(78,), dtype=bool)\n"
     ]
    }
   ],
   "source": [
    " AccuracyVector = np.array(prdlbl) == labels\n",
    "print(\"AccuracyVector: \", AccuracyVector)\n",
    "   "
   ]
  },
  {
   "cell_type": "code",
   "execution_count": 12,
   "id": "7d5d27fd-0704-4ed6-98a0-a8b10215462d",
   "metadata": {},
   "outputs": [
    {
     "name": "stdout",
     "output_type": "stream",
     "text": [
      "Test Accuarcy:  0.9230769230769231\n"
     ]
    }
   ],
   "source": [
    "sayac=0\n",
    "for values in AccuracyVector:\n",
    "    if(values==True):\n",
    "        sayac=sayac+1\n",
    "testAccuarcy=sayac/78\n",
    "print(\"Test Accuarcy: \", testAccuarcy)"
   ]
  },
  {
   "cell_type": "code",
   "execution_count": 13,
   "id": "b855d552-6670-4e0a-a8e9-2ae19bf341ea",
   "metadata": {},
   "outputs": [
    {
     "name": "stdout",
     "output_type": "stream",
     "text": [
      "Test Accuarcy:  0.9230769230769231\n"
     ]
    }
   ],
   "source": [
    "sayac=0\n",
    "for values in AccuracyVector:\n",
    "    if(values==True):\n",
    "        sayac=sayac+1\n",
    "testAccuarcy=sayac/78\n",
    "print(\"Test Accuarcy: \", testAccuarcy)"
   ]
  },
  {
   "cell_type": "code",
   "execution_count": null,
   "id": "82bb6b4e-3ecb-4192-af46-5eed37368107",
   "metadata": {},
   "outputs": [],
   "source": []
  },
  {
   "cell_type": "code",
   "execution_count": null,
   "id": "b6a11f15-c755-443b-a997-234aee90f5d0",
   "metadata": {},
   "outputs": [],
   "source": []
  }
 ],
 "metadata": {
  "kernelspec": {
   "display_name": "Python 3",
   "language": "python",
   "name": "python3"
  },
  "language_info": {
   "codemirror_mode": {
    "name": "ipython",
    "version": 3
   },
   "file_extension": ".py",
   "mimetype": "text/x-python",
   "name": "python",
   "nbconvert_exporter": "python",
   "pygments_lexer": "ipython3",
   "version": "3.8.8"
  }
 },
 "nbformat": 4,
 "nbformat_minor": 5
}
