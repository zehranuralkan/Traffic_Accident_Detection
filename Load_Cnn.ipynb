{
 "cells": [
  {
   "cell_type": "code",
   "execution_count": 11,
   "id": "bd97c822",
   "metadata": {},
   "outputs": [],
   "source": [
    "import numpy as np\n",
    "import pandas as pd \n",
    "import matplotlib.pyplot as plt\n",
    "import tensorflow as tf\n",
    "from tensorflow.keras import layers\n",
    "from time import perf_counter \n",
    "import os\n",
    "import joblib\n",
    "from keras.models import load_model"
   ]
  },
  {
   "cell_type": "code",
   "execution_count": 12,
   "id": "217b58f8",
   "metadata": {},
   "outputs": [],
   "source": [
    "batch_size = 64\n",
    "img_height = 250\n",
    "img_width = 250"
   ]
  },
  {
   "cell_type": "code",
   "execution_count": 13,
   "id": "ab450df7",
   "metadata": {},
   "outputs": [
    {
     "name": "stdout",
     "output_type": "stream",
     "text": [
      "Found 153 files belonging to 2 classes.\n",
      "Found 108 files belonging to 2 classes.\n",
      "Found 78 files belonging to 2 classes.\n"
     ]
    }
   ],
   "source": [
    "training_ds = tf.keras.preprocessing.image_dataset_from_directory(\n",
    "    '/home/zehra/Desktop/Deneme/Dataset/data/train',\n",
    "    seed=42,\n",
    "    image_size= (img_height, img_width),\n",
    "    batch_size=batch_size\n",
    "\n",
    ")\n",
    "validation_ds =  tf.keras.preprocessing.image_dataset_from_directory(\n",
    "    '/home/zehra/Desktop/Deneme/Dataset/data/val',\n",
    "    seed=42,\n",
    "    image_size= (img_height, img_width),\n",
    "    batch_size=batch_size)\n",
    "\n",
    "testing_ds = tf.keras.preprocessing.image_dataset_from_directory(\n",
    "    '/home/zehra/Desktop/Deneme/Dataset/data/test',\n",
    "    seed=42,\n",
    "    image_size= (img_height, img_width),\n",
    "    batch_size=100)\n"
   ]
  },
  {
   "cell_type": "code",
   "execution_count": 14,
   "id": "0a3e1018",
   "metadata": {},
   "outputs": [],
   "source": [
    "model=load_model('/home/zehra/Desktop/Deneme/M8.h5')\n",
    " "
   ]
  },
  {
   "cell_type": "code",
   "execution_count": 15,
   "id": "b86614fd",
   "metadata": {},
   "outputs": [
    {
     "data": {
      "text/plain": [
       "<Figure size 2160x2160 with 0 Axes>"
      ]
     },
     "metadata": {},
     "output_type": "display_data"
    }
   ],
   "source": [
    "AccuracyVector = []\n",
    "plt.figure(figsize=(30, 30))\n",
    "for images, labels in testing_ds.take(1):\n",
    "    predictions = model.predict(images)\n",
    "    predlabel = []\n",
    "    prdlbl = []"
   ]
  },
  {
   "cell_type": "code",
   "execution_count": 16,
   "id": "e8a3dd95",
   "metadata": {},
   "outputs": [],
   "source": [
    "class_names = training_ds.class_names\n"
   ]
  },
  {
   "cell_type": "code",
   "execution_count": 17,
   "id": "ffa30eda",
   "metadata": {},
   "outputs": [
    {
     "name": "stdout",
     "output_type": "stream",
     "text": [
      "Non Accident\n",
      "Accident\n",
      "Accident\n",
      "Accident\n",
      "Accident\n",
      "Non Accident\n",
      "Accident\n",
      "Accident\n",
      "Accident\n",
      "Non Accident\n",
      "Non Accident\n",
      "Non Accident\n",
      "Non Accident\n",
      "Non Accident\n",
      "Accident\n",
      "Accident\n",
      "Accident\n",
      "Non Accident\n",
      "Accident\n",
      "Accident\n",
      "Accident\n",
      "Non Accident\n",
      "Accident\n",
      "Non Accident\n",
      "Non Accident\n",
      "Non Accident\n",
      "Non Accident\n",
      "Non Accident\n",
      "Accident\n",
      "Non Accident\n",
      "Accident\n",
      "Non Accident\n",
      "Non Accident\n",
      "Accident\n",
      "Non Accident\n",
      "Accident\n",
      "Accident\n",
      "Non Accident\n",
      "Non Accident\n",
      "Non Accident\n",
      "Accident\n",
      "Non Accident\n",
      "Non Accident\n",
      "Accident\n",
      "Non Accident\n",
      "Accident\n",
      "Non Accident\n",
      "Accident\n",
      "Accident\n",
      "Accident\n",
      "Non Accident\n",
      "Non Accident\n",
      "Accident\n",
      "Non Accident\n",
      "Accident\n",
      "Non Accident\n",
      "Non Accident\n",
      "Accident\n",
      "Non Accident\n",
      "Accident\n",
      "Accident\n",
      "Non Accident\n",
      "Non Accident\n",
      "Non Accident\n",
      "Non Accident\n",
      "Accident\n",
      "Non Accident\n",
      "Accident\n",
      "Non Accident\n",
      "Non Accident\n",
      "Non Accident\n",
      "Non Accident\n",
      "Non Accident\n",
      "Accident\n",
      "Accident\n",
      "Non Accident\n",
      "Non Accident\n",
      "Non Accident\n"
     ]
    }
   ],
   "source": [
    "for mem in predictions:\n",
    "       deneme=predlabel.append(class_names[np.argmax(mem)])\n",
    "       print(class_names[np.argmax(mem)])\n",
    "       deneme=prdlbl.append(np.argmax(mem))\n"
   ]
  },
  {
   "cell_type": "code",
   "execution_count": 18,
   "id": "abd241c7",
   "metadata": {},
   "outputs": [
    {
     "name": "stdout",
     "output_type": "stream",
     "text": [
      "AccuracyVector:  tf.Tensor(\n",
      "[ True  True  True  True  True  True  True  True  True  True  True  True\n",
      "  True  True  True  True  True  True  True  True  True  True  True  True\n",
      "  True  True  True  True  True  True  True  True  True  True  True  True\n",
      "  True  True  True  True  True  True False  True  True  True  True  True\n",
      "  True  True  True  True  True  True  True  True  True  True  True  True\n",
      "  True  True  True  True  True  True  True False  True  True  True  True\n",
      "  True  True  True  True  True  True], shape=(78,), dtype=bool)\n"
     ]
    }
   ],
   "source": [
    "AccuracyVector = np.array(prdlbl) == labels\n",
    "print(\"AccuracyVector: \", AccuracyVector)\n",
    "   "
   ]
  },
  {
   "cell_type": "code",
   "execution_count": 19,
   "id": "e08fdf47",
   "metadata": {},
   "outputs": [
    {
     "name": "stdout",
     "output_type": "stream",
     "text": [
      "Test Accuarcy:  0.9743589743589743\n"
     ]
    }
   ],
   "source": [
    "sayac=0\n",
    "for values in AccuracyVector:\n",
    "    if(values==True):\n",
    "        sayac=sayac+1\n",
    "testAccuarcy=sayac/78\n",
    "print(\"Test Accuarcy: \", testAccuarcy)"
   ]
  },
  {
   "cell_type": "code",
   "execution_count": null,
   "id": "aea9b5d1",
   "metadata": {},
   "outputs": [],
   "source": []
  },
  {
   "cell_type": "code",
   "execution_count": null,
   "id": "901f774f",
   "metadata": {},
   "outputs": [],
   "source": []
  }
 ],
 "metadata": {
  "kernelspec": {
   "display_name": "Python 3",
   "language": "python",
   "name": "python3"
  },
  "language_info": {
   "codemirror_mode": {
    "name": "ipython",
    "version": 3
   },
   "file_extension": ".py",
   "mimetype": "text/x-python",
   "name": "python",
   "nbconvert_exporter": "python",
   "pygments_lexer": "ipython3",
   "version": "3.8.8"
  }
 },
 "nbformat": 4,
 "nbformat_minor": 5
}
