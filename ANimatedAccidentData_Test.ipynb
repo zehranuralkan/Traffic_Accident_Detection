{
 "cells": [
  {
   "cell_type": "code",
   "execution_count": 12,
   "id": "bc08df10",
   "metadata": {},
   "outputs": [],
   "source": [
    "import numpy as np\n",
    "import pandas as pd \n",
    "import matplotlib.pyplot as plt\n",
    "import tensorflow as tf\n",
    "from tensorflow.keras import layers\n",
    "from time import perf_counter \n",
    "import os\n",
    "import joblib\n",
    "from keras.models import load_model\n",
    "from keras.preprocessing.image import ImageDataGenerator, array_to_img, img_to_array, load_img\n"
   ]
  },
  {
   "cell_type": "code",
   "execution_count": 13,
   "id": "805a8217",
   "metadata": {},
   "outputs": [],
   "source": [
    "batch_size = 64\n",
    "img_height = 250\n",
    "img_width = 250\n",
    "\n"
   ]
  },
  {
   "cell_type": "code",
   "execution_count": 14,
   "id": "bb0ef205",
   "metadata": {},
   "outputs": [
    {
     "name": "stdout",
     "output_type": "stream",
     "text": [
      "Found 338 files belonging to 2 classes.\n"
     ]
    }
   ],
   "source": [
    "training_ds = tf.keras.preprocessing.image_dataset_from_directory(\n",
    "    '/home/zehra/Desktop/Animated_accident_data',\n",
    "    seed=42,\n",
    "    image_size= (img_height, img_width),\n",
    "    batch_size=batch_size\n",
    "\n",
    ")"
   ]
  },
  {
   "cell_type": "code",
   "execution_count": 15,
   "id": "58a7a58c",
   "metadata": {},
   "outputs": [
    {
     "name": "stdout",
     "output_type": "stream",
     "text": [
      "Found 44 files belonging to 2 classes.\n"
     ]
    }
   ],
   "source": [
    "testing_ds = tf.keras.preprocessing.image_dataset_from_directory(\n",
    "    '/home/zehra/Desktop/test',\n",
    "    seed=42,\n",
    "    image_size= (img_height, img_width),\n",
    "    batch_size=338\n",
    "\n",
    ")"
   ]
  },
  {
   "cell_type": "code",
   "execution_count": 16,
   "id": "4bb75b40",
   "metadata": {},
   "outputs": [],
   "source": [
    "model=load_model('/home/zehra/Desktop/Animated_accident_data/Model17.h5')\n",
    " \n"
   ]
  },
  {
   "cell_type": "code",
   "execution_count": 18,
   "id": "7ab4f4bb",
   "metadata": {},
   "outputs": [
    {
     "name": "stdout",
     "output_type": "stream",
     "text": [
      "no_accident\n",
      "accident\n",
      "no_accident\n",
      "no_accident\n",
      "accident\n",
      "no_accident\n",
      "no_accident\n",
      "no_accident\n",
      "accident\n",
      "no_accident\n",
      "no_accident\n",
      "accident\n",
      "accident\n",
      "accident\n",
      "accident\n",
      "no_accident\n",
      "no_accident\n",
      "no_accident\n",
      "no_accident\n",
      "no_accident\n",
      "accident\n",
      "accident\n",
      "accident\n",
      "no_accident\n",
      "no_accident\n",
      "no_accident\n",
      "accident\n",
      "accident\n",
      "accident\n",
      "accident\n",
      "no_accident\n",
      "no_accident\n",
      "accident\n",
      "no_accident\n",
      "accident\n",
      "no_accident\n",
      "no_accident\n",
      "no_accident\n",
      "accident\n",
      "accident\n",
      "no_accident\n",
      "accident\n",
      "accident\n",
      "no_accident\n",
      "AccuracyVector:  tf.Tensor(\n",
      "[ True  True  True  True  True  True  True  True  True  True  True  True\n",
      "  True  True  True  True  True  True  True  True  True  True  True  True\n",
      "  True  True  True  True  True  True  True  True  True  True  True  True\n",
      "  True  True  True  True  True  True  True  True], shape=(44,), dtype=bool)\n",
      "Test Accuarcy:  1.0\n"
     ]
    },
    {
     "data": {
      "text/plain": [
       "<Figure size 2160x2160 with 0 Axes>"
      ]
     },
     "metadata": {},
     "output_type": "display_data"
    }
   ],
   "source": [
    "AccuracyVector = []\n",
    "plt.figure(figsize=(30, 30))\n",
    "for images, labels in testing_ds.take(1):\n",
    "    predictions = model.predict(images)\n",
    "    predlabel = []\n",
    "    prdlbl = []\n",
    "    \n",
    "class_names = training_ds.class_names\n",
    "\n",
    "for mem in predictions:\n",
    "        deneme=predlabel.append(class_names[np.argmax(mem)])\n",
    "        print(class_names[np.argmax(mem)])\n",
    "        deneme=prdlbl.append(np.argmax(mem))\n",
    "    \n",
    "    \n",
    "AccuracyVector = np.array(prdlbl) == labels\n",
    "print(\"AccuracyVector: \", AccuracyVector)\n",
    "   \n",
    "sayac=0\n",
    "for values in AccuracyVector:\n",
    "    if(values==True):\n",
    "        sayac=sayac+1\n",
    "testAccuarcy=sayac/44\n",
    "print(\"Test Accuarcy: \", testAccuarcy)"
   ]
  },
  {
   "cell_type": "code",
   "execution_count": null,
   "id": "60b8a782",
   "metadata": {},
   "outputs": [],
   "source": []
  }
 ],
 "metadata": {
  "kernelspec": {
   "display_name": "Python 3",
   "language": "python",
   "name": "python3"
  },
  "language_info": {
   "codemirror_mode": {
    "name": "ipython",
    "version": 3
   },
   "file_extension": ".py",
   "mimetype": "text/x-python",
   "name": "python",
   "nbconvert_exporter": "python",
   "pygments_lexer": "ipython3",
   "version": "3.8.8"
  }
 },
 "nbformat": 4,
 "nbformat_minor": 5
}
